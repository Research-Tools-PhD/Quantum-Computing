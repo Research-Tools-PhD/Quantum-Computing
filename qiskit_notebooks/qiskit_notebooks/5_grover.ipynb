{
 "cells": [
  {
   "cell_type": "markdown",
   "metadata": {
    "tags": [
     "remove_cell"
    ]
   },
   "source": [
    "# Grover's Algorithm"
   ]
  },
  {
   "cell_type": "markdown",
   "metadata": {},
   "source": [
    "In this section, we introduce Grover's algorithm and how it can be used to solve unstructured search problems. We then implement the quantum algorithm using Qiskit, and run on a simulator and device.\n"
   ]
  },
  {
   "cell_type": "markdown",
   "metadata": {},
   "source": [
    "## 1. Introduction <a id='introduction'></a>\n",
    "\n"
   ]
  },
  {
   "cell_type": "markdown",
   "metadata": {},
   "source": [
    "### Creating an Oracle\n",
    "\n",
    "For the examples in this textbook, our 'database' is comprised of all the possible computational basis states our qubits can be in. For example, if we have 3 qubits, our list is the states $|000\\rangle, |001\\rangle, \\dots |111\\rangle$ (i.e the states $|0\\rangle \\rightarrow |7\\rangle$).\n",
    "\n",
    "Grover’s algorithm solves oracles that add a negative phase to the solution states. I.e. for any state $|x\\rangle$ in the computational basis:\n",
    "\n",
    "$$\n",
    "U_\\omega|x\\rangle = \\bigg\\{\n",
    "\\begin{aligned}\n",
    "\\phantom{-}|x\\rangle \\quad \\text{if} \\; x \\neq \\omega \\\\\n",
    "-|x\\rangle \\quad \\text{if} \\; x = \\omega \\\\\n",
    "\\end{aligned}\n",
    "$$\n",
    "\n",
    "This oracle will be a diagonal matrix, where the entry that correspond to the marked item will have a negative phase. For example, if we have three qubits and $\\omega = \\text{101}$, our oracle will have the matrix:\n",
    "\n",
    "$$\n",
    "U_\\omega = \n",
    "\\begin{bmatrix}\n",
    "1 & 0 & 0 & 0 & 0 & 0 & 0 & 0 \\\\\n",
    "0 & 1 & 0 & 0 & 0 & 0 & 0 & 0 \\\\\n",
    "0 & 0 & 1 & 0 & 0 & 0 & 0 & 0 \\\\\n",
    "0 & 0 & 0 & 1 & 0 & 0 & 0 & 0 \\\\\n",
    "0 & 0 & 0 & 0 & 1 & 0 & 0 & 0 \\\\\n",
    "0 & 0 & 0 & 0 & 0 & -1 & 0 & 0 \\\\\n",
    "0 & 0 & 0 & 0 & 0 & 0 & 1 & 0 \\\\\n",
    "0 & 0 & 0 & 0 & 0 & 0 & 0 & 1 \\\\\n",
    "\\end{bmatrix}\n",
    "\\begin{aligned}\n",
    "\\\\\n",
    "\\\\\n",
    "\\\\\n",
    "\\\\\n",
    "\\\\\n",
    "\\\\\n",
    "\\leftarrow \\omega = \\text{101}\\\\\n",
    "\\\\\n",
    "\\\\\n",
    "\\\\\n",
    "\\end{aligned}\n",
    "$$\n",
    "\n",
    "\n",
    "What makes Grover’s algorithm so powerful is how easy it is to convert a problem to an oracle of this form.  For these problems, we can create a function $f$ that takes a proposed solution $x$, and returns $f(x) = 0$ if $x$ is not a solution ($x \\neq \\omega$) and $f(x) = 1$ for a valid solution ($x = \\omega$). Our oracle can then be described as:\n",
    "\n",
    "$$\n",
    "U_\\omega|x\\rangle = (-1)^{f(x)}|x\\rangle\n",
    "$$\n",
    "\n",
    "and the oracle's matrix will be a diagonal matrix of the form:\n",
    "\n",
    "$$\n",
    "U_\\omega = \n",
    "\\begin{bmatrix}\n",
    "(-1)^{f(0)} &   0         & \\cdots &   0         \\\\\n",
    "0           & (-1)^{f(1)} & \\cdots &   0         \\\\\n",
    "\\vdots      &   0         & \\ddots & \\vdots      \\\\\n",
    "0           &   0         & \\cdots & (-1)^{f(2^n-1)} \\\\\n",
    "\\end{bmatrix}\n",
    "$$\n"
   ]
  },
  {
   "cell_type": "markdown",
   "metadata": {},
   "source": [
    "## 2. Example: 2 Qubits <a id='2qubits'></a>\n",
    "\n",
    "Let's first have a look at the case of Grover's algorithm for $N=4$ which is realized with 2 qubits.\n",
    "<ol>\n",
    "\n",
    "\n",
    "We will now follow through an example using a specific oracle.\n",
    "\n",
    "#### Oracle for $\\lvert \\omega \\rangle = \\lvert 11 \\rangle$\n",
    "Let's look at the case $\\lvert w \\rangle = \\lvert 11 \\rangle$. The oracle $U_\\omega$ in this case acts as follows: \n",
    "\n",
    "$$U_\\omega | s \\rangle = U_\\omega \\frac{1}{2}\\left( |00\\rangle + |01\\rangle + |10\\rangle + |11\\rangle \\right) = \\frac{1}{2}\\left( |00\\rangle + |01\\rangle + |10\\rangle - |11\\rangle \\right).$$\n",
    "\n",
    "or:\n",
    "\n",
    "$$\n",
    "U_\\omega = \n",
    "\\begin{bmatrix}\n",
    "1 & 0 & 0 & 0 \\\\\n",
    "0 & 1 & 0 & 0 \\\\\n",
    "0 & 0 & 1 & 0 \\\\\n",
    "0 & 0 & 0 & -1 \\\\\n",
    "\\end{bmatrix}\n",
    "$$\n",
    "\n",
    "which you may recognise as the controlled-Z gate. Thus, for this example, our oracle is simply the controlled-Z gate:\n",
    "\n",
    "![image6](images/grover_circuit_2qbuits_oracle_11.svg)\n",
    "\n",
    "#### Reflection $U_s$\n",
    "In order to complete the circuit we need to implement the additional reflection $U_s = 2|s\\rangle\\langle s| - \\mathbb{1}$. Since this is a reflection about $|s\\rangle$, we want to add a negative phase to every state orthogonal to $|s\\rangle$. \n",
    "\n",
    "One way we can do this is to use the operation that transforms the state $|s\\rangle \\rightarrow |0\\rangle$, which we already know is the Hadamard gate applied to each qubit:\n",
    "\n",
    "$$H^{\\otimes n}|s\\rangle = |0\\rangle$$\n",
    "\n",
    "Then we apply a circuit that adds a negative phase to the states orthogonal to $|0\\rangle$:\n",
    "\n",
    "$$U_0 \\frac{1}{2}\\left( \\lvert 00 \\rangle + \\lvert 01 \\rangle + \\lvert 10 \\rangle + \\lvert 11 \\rangle \\right) = \\frac{1}{2}\\left( \\lvert 00 \\rangle - \\lvert 01 \\rangle - \\lvert 10 \\rangle - \\lvert 11 \\rangle \\right)$$\n",
    "\n",
    "i.e. the signs of each state are flipped except for $\\lvert 00 \\rangle$. As can easily be verified, one way of implementing $U_0$ is the following circuit (what we called S in the slides):\n",
    "\n",
    "![Circuit for reflection around |0>](images/grover_circuit_2qbuits_reflection_0.svg)\n",
    "\n",
    "Finally, we do the operation that transforms the state $|0\\rangle \\rightarrow |s\\rangle$ (the H-gate again):\n",
    "\n",
    "$$H^{\\otimes n}U_0 H^{\\otimes n} = U_s$$\n",
    "\n",
    "The complete circuit for $U_s$ looks like this:\n",
    "\n",
    "![Circuit for reflection around |s>](images/grover_circuit_2qbuits_reflection.svg)\n",
    "\n",
    "\n",
    "#### Full Circuit for $\\lvert w \\rangle = |11\\rangle$\n",
    "Since in the particular case of $N=4$ only one rotation is required we can combine the above components to build the full circuit for Grover's algorithm for the case $\\lvert w \\rangle = |11\\rangle$:\n",
    "\n",
    "![image10](images/grover_circuit_2qubits_full_11.svg)\n",
    "\n",
    "### 2.1 Qiskit Implementation\n",
    "\n",
    "We now implement Grover's algorithm for the above case of 2 qubits for $\\lvert w \\rangle = |11\\rangle$."
   ]
  },
  {
   "cell_type": "code",
   "execution_count": null,
   "metadata": {},
   "outputs": [],
   "source": [
    "#initialization\n",
    "import matplotlib.pyplot as plt\n",
    "import numpy as np\n",
    "\n",
    "# importing Qiskit\n",
    "from qiskit import IBMQ, Aer, assemble, transpile\n",
    "from qiskit import QuantumCircuit, ClassicalRegister, QuantumRegister\n",
    "from qiskit.providers.ibmq import least_busy\n",
    "\n",
    "# import basic plot tools\n",
    "from qiskit.visualization import plot_histogram"
   ]
  },
  {
   "cell_type": "markdown",
   "metadata": {},
   "source": [
    "We start by preparing a quantum circuit with two qubits:"
   ]
  },
  {
   "cell_type": "code",
   "execution_count": null,
   "metadata": {},
   "outputs": [],
   "source": [
    "n = 2\n",
    "grover_circuit = QuantumCircuit(n)"
   ]
  },
  {
   "cell_type": "markdown",
   "metadata": {},
   "source": [
    "Then we simply need to write out the commands for the circuit depicted above. First, we need to initialize the state $|s\\rangle$. Let's create a general function (for any number of qubits) so we can use it again later:"
   ]
  },
  {
   "cell_type": "code",
   "execution_count": null,
   "metadata": {
    "tags": [
     "thebelab-init"
    ]
   },
   "outputs": [],
   "source": [
    "def initialize_s(qc, qubits):\n",
    "    \"\"\"Apply a H-gate to 'qubits' in qc\"\"\"\n",
    "    for q in qubits:\n",
    "        qc.h(q)\n",
    "    qc.barrier()\n",
    "    return qc"
   ]
  },
  {
   "cell_type": "code",
   "execution_count": null,
   "metadata": {},
   "outputs": [],
   "source": [
    "grover_circuit = initialize_s(grover_circuit, [0,1])\n",
    "grover_circuit.draw()"
   ]
  },
  {
   "cell_type": "markdown",
   "metadata": {},
   "source": [
    "Apply the Oracle for $|w\\rangle = |11\\rangle$. This oracle is specific to 2 qubits:"
   ]
  },
  {
   "cell_type": "code",
   "execution_count": null,
   "metadata": {},
   "outputs": [],
   "source": [
    "grover_circuit.cz(0,1) # Oracle\n",
    "grover_circuit.barrier()\n",
    "grover_circuit.draw()"
   ]
  },
  {
   "cell_type": "markdown",
   "metadata": {},
   "source": [
    "<span id=\"general_diffuser\"></span>We now want to apply the diffuser ($U_s$). As with the circuit that initializes $|s\\rangle$, we'll create a general diffuser (for any number of qubits) so we can use it later in other problems. "
   ]
  },
  {
   "cell_type": "code",
   "execution_count": null,
   "metadata": {
    "tags": [
     "thebelab-init"
    ]
   },
   "outputs": [],
   "source": [
    "# Diffusion operator (U_s)\n",
    "grover_circuit.h([0,1])\n",
    "grover_circuit.z([0,1])\n",
    "grover_circuit.cz(0,1)\n",
    "grover_circuit.h([0,1])\n",
    "\n",
    "grover_circuit.draw()"
   ]
  },
  {
   "cell_type": "markdown",
   "metadata": {},
   "source": [
    "This is our finished circuit."
   ]
  },
  {
   "cell_type": "markdown",
   "metadata": {},
   "source": [
    "### 2.1.1 Experiment with Simulators <a id='2qubits-simulation'></a>\n",
    "\n",
    "Let's run the circuit in simulation. First, we can verify that we have the correct statevector:"
   ]
  },
  {
   "cell_type": "code",
   "execution_count": null,
   "metadata": {},
   "outputs": [],
   "source": [
    "sv_sim = Aer.get_backend('statevector_simulator')\n",
    "qobj = assemble(grover_circuit)\n",
    "grover_circuit.draw()\n"
   ]
  },
  {
   "cell_type": "code",
   "execution_count": null,
   "metadata": {},
   "outputs": [],
   "source": [
    "sv_sim = Aer.get_backend('statevector_simulator')\n",
    "qobj = assemble(grover_circuit)\n",
    "grover_circuit.draw()\n",
    "result = sv_sim.run(grover_circuit).result()\n",
    "statevec = result.get_statevector()\n",
    "\n",
    "#from qiskit_textbook.tools import vector2latex\n",
    "#vector2latex(statevec, pretext=\"|\\\\psi\\\\rangle =\")"
   ]
  },
  {
   "cell_type": "markdown",
   "metadata": {},
   "source": [
    "As expected, the amplitude of every state that is not $|11\\rangle$ is 0, this means we have a 100% chance of measuring $|11\\rangle$:"
   ]
  },
  {
   "cell_type": "code",
   "execution_count": null,
   "metadata": {},
   "outputs": [],
   "source": [
    "grover_circuit.measure_all()\n",
    "\n",
    "qasm_sim = Aer.get_backend('qasm_simulator')\n",
    "qobj = assemble(grover_circuit)\n",
    "result = qasm_sim.run(grover_circuit).result()\n",
    "counts = result.get_counts()\n",
    "plot_histogram(counts)"
   ]
  },
  {
   "cell_type": "markdown",
   "metadata": {},
   "source": [
    "##  References <a id='references'></a>\n",
    "\n",
    "1. L. K. Grover (1996), \"A fast quantum mechanical algorithm for database search\", Proceedings of the 28th Annual ACM Symposium on the Theory of Computing (STOC 1996), [doi:10.1145/237814.237866](http://doi.acm.org/10.1145/237814.237866), [arXiv:quant-ph/9605043](https://arxiv.org/abs/quant-ph/9605043)\n",
    "2. C. Figgatt, D. Maslov, K. A. Landsman, N. M. Linke, S. Debnath & C. Monroe (2017), \"Complete 3-Qubit Grover search on a programmable quantum computer\", Nature Communications, Vol 8, Art 1918, [doi:10.1038/s41467-017-01904-7](https://doi.org/10.1038/s41467-017-01904-7), [arXiv:1703.10535 ](https://arxiv.org/abs/1703.10535)\n",
    "3. I. Chuang & M. Nielsen, \"Quantum Computation and Quantum Information\", Cambridge: Cambridge University Press, 2000."
   ]
  },
  {
   "cell_type": "code",
   "execution_count": null,
   "metadata": {},
   "outputs": [],
   "source": [
    "import qiskit\n",
    "qiskit.__qiskit_version__"
   ]
  },
  {
   "cell_type": "code",
   "execution_count": null,
   "metadata": {},
   "outputs": [],
   "source": []
  }
 ],
 "metadata": {
  "kernelspec": {
   "display_name": "Python 3 (ipykernel)",
   "language": "python",
   "name": "python3"
  },
  "language_info": {
   "codemirror_mode": {
    "name": "ipython",
    "version": 3
   },
   "file_extension": ".py",
   "mimetype": "text/x-python",
   "name": "python",
   "nbconvert_exporter": "python",
   "pygments_lexer": "ipython3",
   "version": "3.9.13"
  }
 },
 "nbformat": 4,
 "nbformat_minor": 2
}
