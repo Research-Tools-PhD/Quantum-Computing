{
 "cells": [
  {
   "cell_type": "code",
   "execution_count": null,
   "id": "80a7cfd9",
   "metadata": {},
   "outputs": [],
   "source": [
    "import numpy as np\n",
    "from pyqubo import Binary\n",
    "from pyqubo import Array\n",
    "import neal\n",
    "import networkx as nx\n",
    "import matplotlib.pyplot as plt\n",
    "import math \n",
    "import random\n",
    "from collections import Counter"
   ]
  },
  {
   "cell_type": "code",
   "execution_count": null,
   "id": "5be58b6c",
   "metadata": {},
   "outputs": [],
   "source": [
    "def ROW(row,dim):\n",
    "    C=np.zeros((dim,dim), dtype=int)\n",
    "    C[row,:] = 1 \n",
    "\n",
    "    return C.flatten()"
   ]
  },
  {
   "cell_type": "code",
   "execution_count": null,
   "id": "847a0e5f",
   "metadata": {},
   "outputs": [],
   "source": [
    "def COL(col,dim):\n",
    "    C=np.zeros((dim,dim), dtype=int)\n",
    "    C[:,col] = 1 \n",
    "\n",
    "    return C.flatten() "
   ]
  },
  {
   "cell_type": "code",
   "execution_count": null,
   "id": "cf93fb1f",
   "metadata": {},
   "outputs": [],
   "source": [
    "def DIAG1(k,dim): \n",
    "    d=np.ones(dim-abs(k), dtype=int) \n",
    "    C=np.diag(d,k=k)  \n",
    "\n",
    "    return C.flatten() "
   ]
  },
  {
   "cell_type": "code",
   "execution_count": null,
   "id": "6b26d340",
   "metadata": {},
   "outputs": [],
   "source": [
    "def DIAG2(k,dim):\n",
    "    d=np.ones(dim-abs(k), dtype=int) \n",
    "    C=np.fliplr(np.diag(d,k=k)) \n",
    "\n",
    "    return C.flatten()  "
   ]
  },
  {
   "cell_type": "code",
   "execution_count": null,
   "id": "738255bb",
   "metadata": {},
   "outputs": [],
   "source": [
    "N=4\n",
    "\n",
    "w=1\n",
    "\n",
    "B=np.zeros((N*N,N*N), dtype=float)\n",
    "for row in range(N):\n",
    "    R=ROW(row,N)\n",
    "    for i in range(N*N):\n",
    "        for j in range(i+1,N*N):\n",
    "            B[i][j]=B[i][j]+R[i]*R[j]*w\n",
    "#print(B)"
   ]
  },
  {
   "cell_type": "code",
   "execution_count": null,
   "id": "e2b95247",
   "metadata": {},
   "outputs": [],
   "source": [
    "for col in range(N):\n",
    "    C=COL(col,N)\n",
    "    for i in range(N*N):\n",
    "        for j in range(i+1,N*N):\n",
    "            B[i][j]=B[i][j]+C[i]*C[j]*w\n",
    "            \n",
    "#print(B)"
   ]
  },
  {
   "cell_type": "code",
   "execution_count": null,
   "id": "34f37d32",
   "metadata": {},
   "outputs": [],
   "source": [
    "for diag1 in range(-(N-2),N-1):\n",
    "    D1=DIAG1(diag1,N)\n",
    "    for i in range(N*N):\n",
    "        for j in range(i+1,N*N):\n",
    "            B[i][j]=B[i][j]+D1[i]*D1[j]*w\n",
    "            \n",
    "#print(B)"
   ]
  },
  {
   "cell_type": "code",
   "execution_count": null,
   "id": "948c5f31",
   "metadata": {},
   "outputs": [],
   "source": [
    "for diag2 in range(-(N-2),N-1):\n",
    "    D2=DIAG2(diag2,N)\n",
    "    for i in range(N*N):\n",
    "        for j in range(i+1,N*N):\n",
    "            B[i][j]=B[i][j]+D2[i]*D2[j]*w\n",
    "    \n",
    "#print(B)"
   ]
  },
  {
   "cell_type": "code",
   "execution_count": null,
   "id": "cc8133a5",
   "metadata": {},
   "outputs": [],
   "source": [
    "q = Array.create('q', shape=REPLACE_ME, vartype='BINARY')\n",
    "H = 0;\n",
    "\n",
    "alpha = 1\n",
    "beta = 1\n",
    "\n",
    "for i in range(REPLACE_ME):\n",
    "    H = H + (REPLACE_ME)*q[i];\n",
    "    for j in range(i+1,REPLACE_ME):\n",
    "        H = H + (REPLACE_ME)*q[i]*q[j];\n",
    "\n",
    "\n",
    "model = H.compile()\n",
    "bqm = model.to_bqm()"
   ]
  },
  {
   "cell_type": "code",
   "execution_count": null,
   "id": "f3b94172",
   "metadata": {},
   "outputs": [],
   "source": [
    "sa = neal.SimulatedAnnealingSampler()\n",
    "sampleset = sa.sample(bqm, num_reads=1000)\n",
    "decoded_samples = model.decode_sampleset(sampleset)\n",
    "best_sample = min(decoded_samples, key=lambda x: x.energy)\n",
    "#print(best_sample.sample);"
   ]
  },
  {
   "cell_type": "code",
   "execution_count": null,
   "id": "d93b56ba",
   "metadata": {},
   "outputs": [],
   "source": [
    "sol=np.zeros(N*N, dtype=int)\n",
    "for i in range(N*N):\n",
    "    key='q['+str(i)+']';\n",
    "    sol[i]=best_sample.sample[key]"
   ]
  },
  {
   "cell_type": "code",
   "execution_count": null,
   "id": "4a07971c",
   "metadata": {},
   "outputs": [],
   "source": [
    "shape = (N,N)\n",
    "SOL=sol.reshape(shape)\n",
    "print(SOL)"
   ]
  },
  {
   "cell_type": "code",
   "execution_count": null,
   "id": "196f886e",
   "metadata": {},
   "outputs": [],
   "source": []
  }
 ],
 "metadata": {
  "kernelspec": {
   "display_name": "Python 3 (ipykernel)",
   "language": "python",
   "name": "python3"
  },
  "language_info": {
   "codemirror_mode": {
    "name": "ipython",
    "version": 3
   },
   "file_extension": ".py",
   "mimetype": "text/x-python",
   "name": "python",
   "nbconvert_exporter": "python",
   "pygments_lexer": "ipython3",
   "version": "3.9.7"
  }
 },
 "nbformat": 4,
 "nbformat_minor": 5
}
