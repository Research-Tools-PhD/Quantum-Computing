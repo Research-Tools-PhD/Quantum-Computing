{
 "cells": [
  {
   "cell_type": "code",
   "execution_count": null,
   "id": "50d971e8-4933-4b24-9e4d-a42044c5d2c1",
   "metadata": {},
   "outputs": [],
   "source": [
    "import numpy as np\n",
    "from pyqubo import Binary\n",
    "from pyqubo import Array\n",
    "import neal\n",
    "import random"
   ]
  },
  {
   "cell_type": "code",
   "execution_count": null,
   "id": "97557407-af0e-45f3-8eeb-bb6ed191a12f",
   "metadata": {},
   "outputs": [],
   "source": [
    "Ns = 4;\n",
    "Ng = 2;\n",
    "N  = REPLACE_ME;\n",
    "\n",
    "B = np.zeros((Ns,Ns), dtype=float)\n",
    "Ba= np.zeros((N,N), dtype=float)\n",
    "\n",
    "for i in range(Ns):\n",
    "    for j in range (i+1,Ns):\n",
    "        B[i][j] = random.random()\n",
    "        \n",
    "for i in range(Ng):\n",
    "    Ba[i*Ns:(i+1)*Ns,i*Ns:(i+1)*Ns] = B\n",
    "\n",
    "alpha = 1;\n",
    "beta  = 1;\n",
    "gamma = 1;\n",
    "\n",
    "P  = REPLACE_ME;"
   ]
  },
  {
   "cell_type": "code",
   "execution_count": null,
   "id": "c16e332d-1d57-427f-af2a-fb16b9aebd5a",
   "metadata": {},
   "outputs": [],
   "source": [
    "G  = [];\n",
    "V  = [];\n",
    "\n",
    "L = []; #Never used... You may want to use it?\n",
    "\n",
    "for i in range(Ng):\n",
    "    Gh = [];\n",
    "    for j in range(Ns*Ng):\n",
    "        Gh.append(0);\n",
    "    for j in range(i*Ns,(i+1)*Ns):\n",
    "        Gh[j] = 1;\n",
    "    G.append(Gh)\n",
    "\n",
    "for i in range(Ns):\n",
    "    Vh = [];    \n",
    "    for j in range(Ns*Ng):\n",
    "        Vh.append(0);\n",
    "    for j in range(Ng):\n",
    "        Vh[i+j*Ns] = 1;\n",
    "    V.append(Vh)"
   ]
  },
  {
   "cell_type": "code",
   "execution_count": null,
   "id": "af0d5a68-ee51-4000-832f-35b8e378d51e",
   "metadata": {},
   "outputs": [],
   "source": [
    "Gbar=list(np.sum(G, axis=0))\n",
    "Vbar=list(np.sum(V, axis=0))\n",
    "\n",
    "GG=np.zeros((N,N), dtype=int)\n",
    "VV=np.zeros((N,N), dtype=int) \n",
    "for i in range(N):\n",
    "    for j in range(N):\n",
    "        for s in range(Ng):\n",
    "            GG[i][j] = GG[i][j] + G[s][i]*G[s][j]\n",
    "        for h in range(Ns):\n",
    "            VV[i][j] = VV[i][j] + V[h][i]*V[h][j]"
   ]
  },
  {
   "cell_type": "code",
   "execution_count": null,
   "id": "e1a00649-5180-4193-9b13-3d49a5ae00a8",
   "metadata": {},
   "outputs": [],
   "source": [
    "q = Array.create('q', shape=N, vartype='BINARY')\n",
    "\n",
    "H = 0;\n",
    "\n",
    "for i in range(N):\n",
    "    H = H + REPLACE_ME*q[i];\n",
    "    for j in range(i+1,N):\n",
    "        H = H + REPLACE_ME*q[i]*q[j];\n",
    "\n",
    "model = H.compile()\n",
    "bqm = model.to_bqm()\n",
    "\n",
    "sa = neal.SimulatedAnnealingSampler()\n",
    "sampleset = sa.sample(bqm, num_reads=100)\n",
    "decoded_samples = model.decode_sampleset(sampleset)\n",
    "best_sample = min(decoded_samples, key=lambda x: x.energy)\n",
    "for i in range(Ng):\n",
    "    for j in range(i*Ns,(i+1)*Ns):\n",
    "        key='q['+str(j)+']';\n",
    "        print(best_sample.sample[key],end='');\n",
    "    print();"
   ]
  },
  {
   "cell_type": "code",
   "execution_count": null,
   "id": "70a4c461-0f95-46d0-8592-f26624d875d7",
   "metadata": {},
   "outputs": [],
   "source": []
  }
 ],
 "metadata": {
  "kernelspec": {
   "display_name": "Quantum Annealing Environment",
   "language": "python",
   "name": "qa"
  },
  "language_info": {
   "codemirror_mode": {
    "name": "ipython",
    "version": 3
   },
   "file_extension": ".py",
   "mimetype": "text/x-python",
   "name": "python",
   "nbconvert_exporter": "python",
   "pygments_lexer": "ipython3",
   "version": "3.9.7"
  }
 },
 "nbformat": 4,
 "nbformat_minor": 5
}
