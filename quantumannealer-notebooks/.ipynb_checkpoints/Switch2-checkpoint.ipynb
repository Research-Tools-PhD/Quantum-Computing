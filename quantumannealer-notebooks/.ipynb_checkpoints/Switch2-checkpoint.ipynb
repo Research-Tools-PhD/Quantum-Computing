{
 "cells": [
  {
   "cell_type": "code",
   "execution_count": 12,
   "id": "585824b3",
   "metadata": {},
   "outputs": [],
   "source": [
    "import numpy as np\n",
    "from pyqubo import Spin\n",
    "from pyqubo import Array\n",
    "import neal\n",
    "import networkx as nx\n",
    "import matplotlib.pyplot as plt\n",
    "import math \n",
    "import random\n",
    "from collections import Counter"
   ]
  },
  {
   "cell_type": "code",
   "execution_count": 37,
   "id": "cebf83cb",
   "metadata": {},
   "outputs": [
    {
     "data": {
      "image/png": "[encoded data removed]",
      "text/plain": [
       "<Figure size 432x288 with 1 Axes>"
      ]
     },
     "metadata": {},
     "output_type": "display_data"
    }
   ],
   "source": [
    "N = 12\n",
    "\n",
    "Nx = 3\n",
    "Ny = 4\n",
    "\n",
    "G = nx.Graph()\n",
    "\n",
    "Linears = np.zeros(N)\n",
    "Quadratics = np.zeros((N,N))\n",
    "\n",
    "for i in range(N):\n",
    "    x = int(i/Nx)\n",
    "    y = int(i%Nx)\n",
    "    Linears[i] = round(random.uniform(-1,1),1)\n",
    "    G.add_node(i,desc=str(Linears[i]),pos=(x,y))    \n",
    "\n",
    "pos=nx.get_node_attributes(G,'pos')\n",
    "    \n",
    "for i in range(N):\n",
    "    xi = int(i/Nx)\n",
    "    yi = int(i%Nx)\n",
    "    for j in range(i+1,N):\n",
    "        xj = int(j/Nx)\n",
    "        yj = int(j%Nx)\n",
    "        if(xi==xj+1 and yi==yj or\n",
    "           xi==xj-1 and yi==yj or\n",
    "           yi==yj+1 and xi==xj or\n",
    "           yi==yj-1 and xi==xj or\n",
    "           yi==yj+1 and xi==xj-1):\n",
    "            Quadratics[i][j] = round(random.uniform(-1,1),1)\n",
    "            G.add_edge(i,j,name=str(Quadratics[i][j]))\n",
    "            \n",
    "nx.draw(G, pos)\n",
    "node_labels = nx.get_node_attributes(G, 'desc')\n",
    "nx.draw_networkx_labels(G, pos, labels=node_labels,font_color='w',font_size=8)\n",
    "edge_labels = nx.get_edge_attributes(G, 'name')\n",
    "nx.draw_networkx_edge_labels(G, pos, edge_labels=edge_labels)\n",
    "plt.show()"
   ]
  },
  {
   "cell_type": "code",
   "execution_count": 7,
   "id": "c8584af5",
   "metadata": {},
   "outputs": [
    {
     "ename": "NameError",
     "evalue": "name 'REPLACE_ME' is not defined",
     "output_type": "error",
     "traceback": [
      "\u001b[0;31m---------------------------------------------------------------------------\u001b[0m",
      "\u001b[0;31mNameError\u001b[0m                                 Traceback (most recent call last)",
      "\u001b[0;32m<ipython-input-7-5955e0fd3700>\u001b[0m in \u001b[0;36m<module>\u001b[0;34m\u001b[0m\n\u001b[0;32m----> 1\u001b[0;31m \u001b[0ms\u001b[0m \u001b[0;34m=\u001b[0m \u001b[0mREPLACE_ME\u001b[0m\u001b[0;34m\u001b[0m\u001b[0;34m\u001b[0m\u001b[0m\n\u001b[0m\u001b[1;32m      2\u001b[0m \u001b[0mH\u001b[0m \u001b[0;34m=\u001b[0m \u001b[0;36m0\u001b[0m\u001b[0;34m;\u001b[0m\u001b[0;34m\u001b[0m\u001b[0;34m\u001b[0m\u001b[0m\n\u001b[1;32m      3\u001b[0m \u001b[0;34m\u001b[0m\u001b[0m\n\u001b[1;32m      4\u001b[0m \u001b[0mA\u001b[0m \u001b[0;34m=\u001b[0m \u001b[0mnp\u001b[0m\u001b[0;34m.\u001b[0m\u001b[0mzeros\u001b[0m\u001b[0;34m(\u001b[0m\u001b[0mN\u001b[0m\u001b[0;34m)\u001b[0m\u001b[0;34m\u001b[0m\u001b[0;34m\u001b[0m\u001b[0m\n\u001b[1;32m      5\u001b[0m \u001b[0mB\u001b[0m \u001b[0;34m=\u001b[0m \u001b[0mnp\u001b[0m\u001b[0;34m.\u001b[0m\u001b[0mzeros\u001b[0m\u001b[0;34m(\u001b[0m\u001b[0;34m(\u001b[0m\u001b[0mN\u001b[0m\u001b[0;34m,\u001b[0m\u001b[0mN\u001b[0m\u001b[0;34m)\u001b[0m\u001b[0;34m)\u001b[0m\u001b[0;34m\u001b[0m\u001b[0;34m\u001b[0m\u001b[0m\n",
      "\u001b[0;31mNameError\u001b[0m: name 'REPLACE_ME' is not defined"
     ]
    }
   ],
   "source": [
    "s = REPLACE_ME\n",
    "H = 0;\n",
    "\n",
    "A = np.zeros(N)\n",
    "B = np.zeros((N,N))\n",
    "\n",
    "for i in range(N):\n",
    "    A[i] = REPLACE_ME\n",
    "    for j in range(i+1,N):\n",
    "        B[i][j] = REPLACE_ME\n",
    "\n",
    "for i in range(N):\n",
    "    H = H + A[i]*s[i];\n",
    "    for j in range(i+1,N):\n",
    "        H = H + B[i][j]*s[i]*s[j];\n",
    "\n",
    "model = H.compile()\n",
    "ising = model.to_ising()"
   ]
  },
  {
   "cell_type": "code",
   "execution_count": null,
   "id": "c72b3c5a",
   "metadata": {},
   "outputs": [],
   "source": [
    "sa = neal.SimulatedAnnealingSampler()\n",
    "sampleset = sa.sample_ising(ising[0],ising[1], num_reads=100)\n",
    "decoded_samples = model.decode_sampleset(sampleset)\n",
    "best_sample = min(decoded_samples, key=lambda x: x.energy)\n",
    "print(best_sample.sample);"
   ]
  },
  {
   "cell_type": "code",
   "execution_count": null,
   "id": "37819a6e",
   "metadata": {},
   "outputs": [],
   "source": [
    "sols=[]\n",
    "for samp in decoded_samples:\n",
    "    res=[]\n",
    "    for i in range(N):\n",
    "        key='s['+str(i)+']';\n",
    "        res.append(samp.sample[key])\n",
    "    sols.append(res)"
   ]
  },
  {
   "cell_type": "code",
   "execution_count": null,
   "id": "c9ad6f85",
   "metadata": {},
   "outputs": [],
   "source": [
    "sol=[]\n",
    "for i in range(N):\n",
    "    key='s['+str(i)+']';\n",
    "    sol.append(best_sample.sample[key])\n",
    "print(sol)"
   ]
  },
  {
   "cell_type": "code",
   "execution_count": null,
   "id": "ebe66dc1",
   "metadata": {},
   "outputs": [],
   "source": [
    "vals=[]\n",
    "for ssol in sols:\n",
    "    Hs = 0;\n",
    "\n",
    "    for i in range(N):\n",
    "        Hs = Hs + A[i]*ssol[i];\n",
    "        for j in range(i+1,N):\n",
    "            Hs = Hs + B[i][j]*ssol[i]*ssol[j];\n",
    "        \n",
    "    vals.append(Hs)\n",
    "\n",
    "histogram = Counter(vals)\n",
    "print(histogram)\n",
    "\n",
    "\n",
    "Hs = 0;\n",
    "\n",
    "for i in range(N):\n",
    "    Hs = Hs + A[i]*sol[i];\n",
    "    for j in range(i+1,N):\n",
    "        Hs = Hs + B[i][j]*sol[i]*sol[j];\n",
    "        \n",
    "print(Hs)"
   ]
  },
  {
   "cell_type": "markdown",
   "id": "0520b237",
   "metadata": {},
   "source": [
    "QPU DWAVE PART"
   ]
  },
  {
   "cell_type": "code",
   "execution_count": null,
   "id": "0cd92611",
   "metadata": {},
   "outputs": [],
   "source": [
    "from dwave.system import DWaveSampler, FixedEmbeddingComposite, EmbeddingComposite\n",
    "qpu = DWaveSampler()\n",
    "print(len(qpu.nodelist))\n",
    "import dimod\n",
    "import dwave.inspector"
   ]
  },
  {
   "cell_type": "code",
   "execution_count": null,
   "id": "ee425551",
   "metadata": {},
   "outputs": [],
   "source": [
    "sampleset_1 = EmbeddingComposite(qpu).sample_ising(ising[0],ising[1],return_embedding=True,num_reads=10000,annealing_time=1)\n",
    "embedding = sampleset_1.info[\"embedding_context\"][\"embedding\"]"
   ]
  },
  {
   "cell_type": "code",
   "execution_count": null,
   "id": "8637fc54",
   "metadata": {},
   "outputs": [],
   "source": [
    "print(embedding)\n",
    "logical_qubits = 0\n",
    "for key in embedding:\n",
    "    logical_qubits = logical_qubits + len(embedding[key])\n",
    "print(logical_qubits)"
   ]
  },
  {
   "cell_type": "code",
   "execution_count": null,
   "id": "74d541f4",
   "metadata": {},
   "outputs": [],
   "source": [
    "decoded_samples = model.decode_sampleset(sampleset_1)\n",
    "best_sample = min(decoded_samples, key=lambda x: x.energy)\n",
    "print(best_sample.sample);"
   ]
  },
  {
   "cell_type": "code",
   "execution_count": null,
   "id": "111780e7",
   "metadata": {},
   "outputs": [],
   "source": [
    "solq=[]\n",
    "for i in range(N):\n",
    "    key='s['+str(i)+']';\n",
    "    solq.append(best_sample.sample[key])\n",
    "print(solq)"
   ]
  },
  {
   "cell_type": "code",
   "execution_count": null,
   "id": "8022ad4b",
   "metadata": {},
   "outputs": [],
   "source": [
    "solsq=[]\n",
    "for samp in decoded_samples:\n",
    "    resq=[]\n",
    "    for i in range(N):\n",
    "        key='s['+str(i)+']';\n",
    "        resq.append(samp.sample[key])\n",
    "    solsq.append(resq)"
   ]
  },
  {
   "cell_type": "code",
   "execution_count": null,
   "id": "3f3d9b70",
   "metadata": {},
   "outputs": [],
   "source": [
    "vals=[]\n",
    "for ssol in solsq:\n",
    "    Hs = 0;\n",
    "\n",
    "    for i in range(N):\n",
    "        Hs = Hs + A[i]*ssol[i];\n",
    "        for j in range(i+1,N):\n",
    "            Hs = Hs + B[i][j]*ssol[i]*ssol[j];\n",
    "        \n",
    "    vals.append(Hs)\n",
    "\n",
    "histogram = Counter(vals)\n",
    "print(histogram)\n",
    "\n",
    "\n",
    "Hs = 0;\n",
    "\n",
    "for i in range(N):\n",
    "    Hs = Hs + A[i]*solq[i];\n",
    "    for j in range(i+1,N):\n",
    "        Hs = Hs + B[i][j]*solq[i]*solq[j];\n",
    "        \n",
    "print(Hs)"
   ]
  },
  {
   "cell_type": "code",
   "execution_count": null,
   "id": "cb2f9f3e",
   "metadata": {},
   "outputs": [],
   "source": []
  }
 ],
 "metadata": {
  "kernelspec": {
   "display_name": "Python 3",
   "language": "python",
   "name": "python3"
  },
  "language_info": {
   "codemirror_mode": {
    "name": "ipython",
    "version": 3
   },
   "file_extension": ".py",
   "mimetype": "text/x-python",
   "name": "python",
   "nbconvert_exporter": "python",
   "pygments_lexer": "ipython3",
   "version": "3.8.5"
  }
 },
 "nbformat": 4,
 "nbformat_minor": 5
}
