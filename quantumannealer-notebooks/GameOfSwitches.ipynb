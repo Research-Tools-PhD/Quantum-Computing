{
 "cells": [
  {
   "cell_type": "code",
   "execution_count": 13,
   "id": "585824b3",
   "metadata": {},
   "outputs": [],
   "source": [
    "import numpy as np\n",
    "from pyqubo import Spin\n",
    "from pyqubo import Array\n",
    "import neal\n",
    "import networkx as nx\n",
    "import matplotlib.pyplot as plt\n",
    "import math \n",
    "import random\n",
    "from collections import Counter"
   ]
  },
  {
   "cell_type": "code",
   "execution_count": 14,
   "id": "cebf83cb",
   "metadata": {},
   "outputs": [
    {
     "data": {
      "image/png": "[encoded data removed]",
      "text/plain": [
       "<Figure size 432x288 with 1 Axes>"
      ]
     },
     "metadata": {},
     "output_type": "display_data"
    }
   ],
   "source": [
    "N = 12\n",
    "\n",
    "Nx = 3\n",
    "Ny = 4\n",
    "\n",
    "G = nx.Graph()\n",
    "\n",
    "Linears = np.zeros(N)\n",
    "Quadratics = np.zeros((N,N))\n",
    "\n",
    "for i in range(N):\n",
    "    x = int(i/Nx)\n",
    "    y = int(i%Nx)\n",
    "    Linears[i] = round(random.uniform(-1,1),1)\n",
    "    G.add_node(i,desc=str(Linears[i]),pos=(x,y))    \n",
    "\n",
    "pos=nx.get_node_attributes(G,'pos')\n",
    "    \n",
    "for i in range(N):\n",
    "    xi = int(i/Nx)\n",
    "    yi = int(i%Nx)\n",
    "    for j in range(i+1,N):\n",
    "        xj = int(j/Nx)\n",
    "        yj = int(j%Nx)\n",
    "        if(xi==xj+1 and yi==yj or\n",
    "           xi==xj-1 and yi==yj or\n",
    "           yi==yj+1 and xi==xj or\n",
    "           yi==yj-1 and xi==xj or\n",
    "           yi==yj+1 and xi==xj-1):\n",
    "            Quadratics[i][j] = round(random.uniform(-1,1),1)\n",
    "            G.add_edge(i,j,name=str(Quadratics[i][j]))\n",
    "            \n",
    "nx.draw(G, pos)\n",
    "node_labels = nx.get_node_attributes(G, 'desc')\n",
    "nx.draw_networkx_labels(G, pos, labels=node_labels,font_color='w',font_size=8)\n",
    "edge_labels = nx.get_edge_attributes(G, 'name')\n",
    "nx.draw_networkx_edge_labels(G, pos, edge_labels=edge_labels)\n",
    "plt.show()"
   ]
  },
  {
   "cell_type": "code",
   "execution_count": 15,
   "id": "c8584af5",
   "metadata": {},
   "outputs": [],
   "source": [
    "s = Array.create('s', shape=N, vartype='SPIN')\n",
    "H = 0;\n",
    "\n",
    "A = np.zeros(N)\n",
    "B = np.zeros((N,N))\n",
    "\n",
    "for i in range(N):\n",
    "    A[i] = Linears[i]\n",
    "    for j in range(i+1,N):\n",
    "        B[i][j] = Quadratics[i][j]\n",
    "\n",
    "for i in range(N):\n",
    "    H = H + A[i]*s[i];\n",
    "    for j in range(i+1,N):\n",
    "        H = H + B[i][j]*s[i]*s[j];\n",
    "\n",
    "model = H.compile()\n",
    "ising = model.to_ising()"
   ]
  },
  {
   "cell_type": "code",
   "execution_count": 16,
   "id": "c72b3c5a",
   "metadata": {},
   "outputs": [
    {
     "name": "stdout",
     "output_type": "stream",
     "text": [
      "{'s[2]': 1, 's[1]': 1, 's[11]': -1, 's[3]': 1, 's[8]': 1, 's[10]': -1, 's[9]': 1, 's[4]': -1, 's[7]': 1, 's[5]': -1, 's[0]': -1, 's[6]': 1}\n"
     ]
    }
   ],
   "source": [
    "sa = neal.SimulatedAnnealingSampler()\n",
    "sampleset = sa.sample_ising(ising[0],ising[1], num_reads=100)\n",
    "decoded_samples = model.decode_sampleset(sampleset)\n",
    "best_sample = min(decoded_samples, key=lambda x: x.energy)\n",
    "print(best_sample.sample);"
   ]
  },
  {
   "cell_type": "code",
   "execution_count": 17,
   "id": "37819a6e",
   "metadata": {},
   "outputs": [],
   "source": [
    "sols=[]\n",
    "for samp in decoded_samples:\n",
    "    res=[]\n",
    "    for i in range(N):\n",
    "        key='s['+str(i)+']';\n",
    "        res.append(samp.sample[key])\n",
    "    sols.append(res)"
   ]
  },
  {
   "cell_type": "code",
   "execution_count": 18,
   "id": "c9ad6f85",
   "metadata": {},
   "outputs": [
    {
     "name": "stdout",
     "output_type": "stream",
     "text": [
      "[-1, 1, 1, 1, -1, -1, 1, 1, 1, 1, -1, -1]\n"
     ]
    }
   ],
   "source": [
    "sol=[]\n",
    "for i in range(N):\n",
    "    key='s['+str(i)+']';\n",
    "    sol.append(best_sample.sample[key])\n",
    "print(sol)"
   ]
  },
  {
   "cell_type": "code",
   "execution_count": 12,
   "id": "ebe66dc1",
   "metadata": {},
   "outputs": [
    {
     "name": "stdout",
     "output_type": "stream",
     "text": [
      "Counter({-9.599999999999998: 74, -9.0: 13, -9.200000000000001: 9, -9.000000000000004: 4})\n",
      "-9.599999999999998\n"
     ]
    }
   ],
   "source": [
    "vals=[]\n",
    "for ssol in sols:\n",
    "    Hs = 0;\n",
    "\n",
    "    for i in range(N):\n",
    "        Hs = Hs + A[i]*ssol[i];\n",
    "        for j in range(i+1,N):\n",
    "            Hs = Hs + B[i][j]*ssol[i]*ssol[j];\n",
    "        \n",
    "    vals.append(Hs)\n",
    "\n",
    "histogram = Counter(vals)\n",
    "print(histogram)\n",
    "\n",
    "\n",
    "Hs = 0;\n",
    "\n",
    "for i in range(N):\n",
    "    Hs = Hs + A[i]*sol[i];\n",
    "    for j in range(i+1,N):\n",
    "        Hs = Hs + B[i][j]*sol[i]*sol[j];\n",
    "        \n",
    "print(Hs)"
   ]
  },
  {
   "cell_type": "code",
   "execution_count": null,
   "id": "65e62c57-8309-4cdf-8461-81765d5859d9",
   "metadata": {},
   "outputs": [],
   "source": []
  }
 ],
 "metadata": {
  "kernelspec": {
   "display_name": "Quantum Annealing Environment",
   "language": "python",
   "name": "qa"
  },
  "language_info": {
   "codemirror_mode": {
    "name": "ipython",
    "version": 3
   },
   "file_extension": ".py",
   "mimetype": "text/x-python",
   "name": "python",
   "nbconvert_exporter": "python",
   "pygments_lexer": "ipython3",
   "version": "3.9.7"
  }
 },
 "nbformat": 4,
 "nbformat_minor": 5
}
